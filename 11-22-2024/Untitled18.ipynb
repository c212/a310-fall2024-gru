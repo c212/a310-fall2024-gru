{
  "nbformat": 4,
  "nbformat_minor": 0,
  "metadata": {
    "colab": {
      "provenance": []
    },
    "kernelspec": {
      "name": "python3",
      "display_name": "Python 3"
    },
    "language_info": {
      "name": "python"
    }
  },
  "cells": [
    {
      "cell_type": "code",
      "execution_count": null,
      "metadata": {
        "id": "QY6vLmc9E-Li"
      },
      "outputs": [],
      "source": [
        "from datetime import datetime\n",
        "\n",
        "mp = \"\"\"\n",
        ".........\n",
        ".........\n",
        ".........\n",
        ".........\n",
        ".........\n",
        ".........\n",
        "\"\"\""
      ]
    },
    {
      "cell_type": "code",
      "source": [
        "print(mp)"
      ],
      "metadata": {
        "colab": {
          "base_uri": "https://localhost:8080/"
        },
        "id": "diCVTHQ6JUB8",
        "outputId": "056ea4f3-28fe-483f-c431-4b756edb64d1"
      },
      "execution_count": null,
      "outputs": [
        {
          "output_type": "stream",
          "name": "stdout",
          "text": [
            "\n",
            ".........\n",
            ".........\n",
            ".........\n",
            ".........\n",
            ".........\n",
            ".........\n",
            "\n"
          ]
        }
      ]
    },
    {
      "cell_type": "code",
      "source": [
        "def distance(a, b):\n",
        "  # a and b neighbors\n",
        "  # points are tuples of integer coordinates\n",
        "  if (a == b):\n",
        "    return 0\n",
        "  elif a[0] == b[0] or a[1] == b[1]:\n",
        "    return 1\n",
        "  else:\n",
        "    return 1.4142"
      ],
      "metadata": {
        "id": "iTb38tJuJU_C"
      },
      "execution_count": null,
      "outputs": []
    },
    {
      "cell_type": "code",
      "source": [
        "distance((6, 7), (5, 7))"
      ],
      "metadata": {
        "colab": {
          "base_uri": "https://localhost:8080/"
        },
        "id": "rK7eAYPzKLrO",
        "outputId": "46261a2e-b724-46bd-89d5-667061e77624"
      },
      "execution_count": null,
      "outputs": [
        {
          "output_type": "execute_result",
          "data": {
            "text/plain": [
              "1"
            ]
          },
          "metadata": {},
          "execution_count": 13
        }
      ]
    },
    {
      "cell_type": "code",
      "source": [
        "def measure(path):\n",
        "  # a path is list of neighboring points\n",
        "  d = 0\n",
        "  for i in range(len(path) - 1):\n",
        "    d = d + distance(path[i], path[i+1])\n",
        "  return d"
      ],
      "metadata": {
        "id": "-SqOKfnEKVAR"
      },
      "execution_count": null,
      "outputs": []
    },
    {
      "cell_type": "code",
      "source": [
        "diag = [ (0, 0), (1, 1), (2, 2)]"
      ],
      "metadata": {
        "id": "QyXOhUWWLoD2"
      },
      "execution_count": null,
      "outputs": []
    },
    {
      "cell_type": "code",
      "source": [
        "measure(diag)"
      ],
      "metadata": {
        "colab": {
          "base_uri": "https://localhost:8080/"
        },
        "id": "Z5NT6ap2Ls-O",
        "outputId": "6695ba09-e88b-487d-c3b6-54eeca7ad814"
      },
      "execution_count": null,
      "outputs": [
        {
          "output_type": "execute_result",
          "data": {
            "text/plain": [
              "2.8284"
            ]
          },
          "metadata": {},
          "execution_count": 16
        }
      ]
    },
    {
      "cell_type": "code",
      "source": [
        "map = {}"
      ],
      "metadata": {
        "id": "MvtDGQaeLxB2"
      },
      "execution_count": null,
      "outputs": []
    },
    {
      "cell_type": "code",
      "source": [
        "(line, column, width, height) = (-1, 0, 0, 0)\n",
        "for c in mp:\n",
        "  if c == '\\n':\n",
        "    line += 1\n",
        "    width = column\n",
        "    column = 0\n",
        "  else:\n",
        "    if c == 'X':\n",
        "      pass\n",
        "    else:\n",
        "      location = (line, column)\n",
        "      map[location] = []\n",
        "    column += 1\n",
        "height =line\n",
        "map['height'] = height\n",
        "map['width'] = width\n",
        "\n",
        "for line in range(height):\n",
        "  for column in range(width):\n",
        "    location = (line, column)\n",
        "    if location in map:\n",
        "      for dx in [1, 0, -1]:\n",
        "        for dy in [1, 0, -1]:\n",
        "          neighbor = (line + dy, column + dx)\n",
        "          if neighbor != location and neighbor in map:\n",
        "            map[location] += [ neighbor]"
      ],
      "metadata": {
        "id": "CEJCy0xaMQPB"
      },
      "execution_count": null,
      "outputs": []
    },
    {
      "cell_type": "code",
      "source": [
        "map"
      ],
      "metadata": {
        "colab": {
          "base_uri": "https://localhost:8080/"
        },
        "id": "L2WmZx1NOLfH",
        "outputId": "04c801e0-4d97-4afa-da8a-2fab01c40ec0"
      },
      "execution_count": null,
      "outputs": [
        {
          "output_type": "execute_result",
          "data": {
            "text/plain": [
              "{(0, 0): [(1, 1), (0, 1), (1, 0)],\n",
              " (0, 1): [(1, 2), (0, 2), (1, 1), (1, 0), (0, 0)],\n",
              " (0, 2): [(1, 3), (0, 3), (1, 2), (1, 1), (0, 1)],\n",
              " (0, 3): [(1, 4), (0, 4), (1, 3), (1, 2), (0, 2)],\n",
              " (0, 4): [(1, 5), (0, 5), (1, 4), (1, 3), (0, 3)],\n",
              " (0, 5): [(1, 6), (0, 6), (1, 5), (1, 4), (0, 4)],\n",
              " (0, 6): [(1, 7), (0, 7), (1, 6), (1, 5), (0, 5)],\n",
              " (0, 7): [(1, 8), (0, 8), (1, 7), (1, 6), (0, 6)],\n",
              " (0, 8): [(1, 8), (1, 7), (0, 7)],\n",
              " (1, 0): [(2, 1), (1, 1), (0, 1), (2, 0), (0, 0)],\n",
              " (1, 1): [(2, 2), (1, 2), (0, 2), (2, 1), (0, 1), (2, 0), (1, 0), (0, 0)],\n",
              " (1, 2): [(2, 3), (1, 3), (0, 3), (2, 2), (0, 2), (2, 1), (1, 1), (0, 1)],\n",
              " (1, 3): [(2, 4), (1, 4), (0, 4), (2, 3), (0, 3), (2, 2), (1, 2), (0, 2)],\n",
              " (1, 4): [(2, 5), (1, 5), (0, 5), (2, 4), (0, 4), (2, 3), (1, 3), (0, 3)],\n",
              " (1, 5): [(2, 6), (1, 6), (0, 6), (2, 5), (0, 5), (2, 4), (1, 4), (0, 4)],\n",
              " (1, 6): [(2, 7), (1, 7), (0, 7), (2, 6), (0, 6), (2, 5), (1, 5), (0, 5)],\n",
              " (1, 7): [(2, 8), (1, 8), (0, 8), (2, 7), (0, 7), (2, 6), (1, 6), (0, 6)],\n",
              " (1, 8): [(2, 8), (0, 8), (2, 7), (1, 7), (0, 7)],\n",
              " (2, 0): [(3, 1), (2, 1), (1, 1), (3, 0), (1, 0)],\n",
              " (2, 1): [(3, 2), (2, 2), (1, 2), (3, 1), (1, 1), (3, 0), (2, 0), (1, 0)],\n",
              " (2, 2): [(3, 3), (2, 3), (1, 3), (3, 2), (1, 2), (3, 1), (2, 1), (1, 1)],\n",
              " (2, 3): [(3, 4), (2, 4), (1, 4), (3, 3), (1, 3), (3, 2), (2, 2), (1, 2)],\n",
              " (2, 4): [(3, 5), (2, 5), (1, 5), (3, 4), (1, 4), (3, 3), (2, 3), (1, 3)],\n",
              " (2, 5): [(3, 6), (2, 6), (1, 6), (3, 5), (1, 5), (3, 4), (2, 4), (1, 4)],\n",
              " (2, 6): [(3, 7), (2, 7), (1, 7), (3, 6), (1, 6), (3, 5), (2, 5), (1, 5)],\n",
              " (2, 7): [(3, 8), (2, 8), (1, 8), (3, 7), (1, 7), (3, 6), (2, 6), (1, 6)],\n",
              " (2, 8): [(3, 8), (1, 8), (3, 7), (2, 7), (1, 7)],\n",
              " (3, 0): [(4, 1), (3, 1), (2, 1), (4, 0), (2, 0)],\n",
              " (3, 1): [(4, 2), (3, 2), (2, 2), (4, 1), (2, 1), (4, 0), (3, 0), (2, 0)],\n",
              " (3, 2): [(4, 3), (3, 3), (2, 3), (4, 2), (2, 2), (4, 1), (3, 1), (2, 1)],\n",
              " (3, 3): [(4, 4), (3, 4), (2, 4), (4, 3), (2, 3), (4, 2), (3, 2), (2, 2)],\n",
              " (3, 4): [(4, 5), (3, 5), (2, 5), (4, 4), (2, 4), (4, 3), (3, 3), (2, 3)],\n",
              " (3, 5): [(4, 6), (3, 6), (2, 6), (4, 5), (2, 5), (4, 4), (3, 4), (2, 4)],\n",
              " (3, 6): [(4, 7), (3, 7), (2, 7), (4, 6), (2, 6), (4, 5), (3, 5), (2, 5)],\n",
              " (3, 7): [(4, 8), (3, 8), (2, 8), (4, 7), (2, 7), (4, 6), (3, 6), (2, 6)],\n",
              " (3, 8): [(4, 8), (2, 8), (4, 7), (3, 7), (2, 7)],\n",
              " (4, 0): [(5, 1), (4, 1), (3, 1), (5, 0), (3, 0)],\n",
              " (4, 1): [(5, 2), (4, 2), (3, 2), (5, 1), (3, 1), (5, 0), (4, 0), (3, 0)],\n",
              " (4, 2): [(5, 3), (4, 3), (3, 3), (5, 2), (3, 2), (5, 1), (4, 1), (3, 1)],\n",
              " (4, 3): [(5, 4), (4, 4), (3, 4), (5, 3), (3, 3), (5, 2), (4, 2), (3, 2)],\n",
              " (4, 4): [(5, 5), (4, 5), (3, 5), (5, 4), (3, 4), (5, 3), (4, 3), (3, 3)],\n",
              " (4, 5): [(5, 6), (4, 6), (3, 6), (5, 5), (3, 5), (5, 4), (4, 4), (3, 4)],\n",
              " (4, 6): [(5, 7), (4, 7), (3, 7), (5, 6), (3, 6), (5, 5), (4, 5), (3, 5)],\n",
              " (4, 7): [(5, 8), (4, 8), (3, 8), (5, 7), (3, 7), (5, 6), (4, 6), (3, 6)],\n",
              " (4, 8): [(5, 8), (3, 8), (5, 7), (4, 7), (3, 7)],\n",
              " (5, 0): [(5, 1), (4, 1), (4, 0)],\n",
              " (5, 1): [(5, 2), (4, 2), (4, 1), (5, 0), (4, 0)],\n",
              " (5, 2): [(5, 3), (4, 3), (4, 2), (5, 1), (4, 1)],\n",
              " (5, 3): [(5, 4), (4, 4), (4, 3), (5, 2), (4, 2)],\n",
              " (5, 4): [(5, 5), (4, 5), (4, 4), (5, 3), (4, 3)],\n",
              " (5, 5): [(5, 6), (4, 6), (4, 5), (5, 4), (4, 4)],\n",
              " (5, 6): [(5, 7), (4, 7), (4, 6), (5, 5), (4, 5)],\n",
              " (5, 7): [(5, 8), (4, 8), (4, 7), (5, 6), (4, 6)],\n",
              " (5, 8): [(4, 8), (5, 7), (4, 7)],\n",
              " 'height': 6,\n",
              " 'width': 9}"
            ]
          },
          "metadata": {},
          "execution_count": 19
        }
      ]
    },
    {
      "cell_type": "code",
      "source": [
        "solution = []"
      ],
      "metadata": {
        "id": "AxCebcQVQMhD"
      },
      "execution_count": null,
      "outputs": []
    },
    {
      "cell_type": "code",
      "source": [
        "def dfs(paths, target, graph):\n",
        "  print(len(paths))\n",
        "  global solution\n",
        "  if paths == []:\n",
        "    return paths\n",
        "  else:\n",
        "    newPaths = [] # starting point for next invocation\n",
        "    for path in paths:\n",
        "      if path[-1] == target:\n",
        "        if solution == [] or measure(solution) > measure(path):\n",
        "          solution = path\n",
        "          print(solution, measure(solution))\n",
        "        continue\n",
        "      if measure(path) >= measure(solution) > 0:\n",
        "        # longer than best so far (which exists)\n",
        "        continue\n",
        "      # now extend the path\n",
        "      neighbors = graph[path[-1]]\n",
        "      for n in neighbors:\n",
        "        if n not in path:\n",
        "          newPaths = newPaths + [ path + [ n ]]\n",
        "  return dfs(newPaths, target, graph)\n",
        "\n"
      ],
      "metadata": {
        "id": "iO5I6_vebJpR"
      },
      "execution_count": null,
      "outputs": []
    },
    {
      "cell_type": "code",
      "source": [
        "time_now = datetime.now().strftime(\"%H:%M:%S\")\n",
        "print(\"-------------------------------------\")\n",
        "print(\"Current date and time:\", time_now)\n",
        "startin = [(0, 0)]\n",
        "goto = (height-1, width-1)\n",
        "answer = dfs([ startin ], goto, map )\n",
        "time_now= datetime.now().strftime(\"%H:%M:%S\")\n",
        "print(\"-------------------------------------\")\n",
        "print(\"Current date and time:\", time_now)"
      ],
      "metadata": {
        "colab": {
          "base_uri": "https://localhost:8080/",
          "height": 582
        },
        "id": "v5jml3D6b7cl",
        "outputId": "c71b25a7-025a-400f-cb89-3da2d3b9f758"
      },
      "execution_count": null,
      "outputs": [
        {
          "output_type": "stream",
          "name": "stdout",
          "text": [
            "-------------------------------------\n",
            "Current date and time: 21:17:15\n",
            "1\n",
            "3\n",
            "15\n",
            "75\n",
            "391\n",
            "2065\n",
            "10824\n",
            "55601\n",
            "280426\n",
            "[(0, 0), (1, 1), (2, 2), (3, 3), (4, 4), (5, 5), (5, 6), (5, 7), (5, 8)] 10.071\n",
            "[(0, 0), (1, 1), (2, 2), (3, 3), (3, 4), (3, 5), (3, 6), (4, 7), (5, 8)] 10.070999999999998\n"
          ]
        },
        {
          "output_type": "error",
          "ename": "KeyboardInterrupt",
          "evalue": "",
          "traceback": [
            "\u001b[0;31m---------------------------------------------------------------------------\u001b[0m",
            "\u001b[0;31mKeyboardInterrupt\u001b[0m                         Traceback (most recent call last)",
            "\u001b[0;32m<ipython-input-22-0bfaba5b3686>\u001b[0m in \u001b[0;36m<cell line: 6>\u001b[0;34m()\u001b[0m\n\u001b[1;32m      4\u001b[0m \u001b[0mstartin\u001b[0m \u001b[0;34m=\u001b[0m \u001b[0;34m[\u001b[0m\u001b[0;34m(\u001b[0m\u001b[0;36m0\u001b[0m\u001b[0;34m,\u001b[0m \u001b[0;36m0\u001b[0m\u001b[0;34m)\u001b[0m\u001b[0;34m]\u001b[0m\u001b[0;34m\u001b[0m\u001b[0;34m\u001b[0m\u001b[0m\n\u001b[1;32m      5\u001b[0m \u001b[0mgoto\u001b[0m \u001b[0;34m=\u001b[0m \u001b[0;34m(\u001b[0m\u001b[0mheight\u001b[0m\u001b[0;34m-\u001b[0m\u001b[0;36m1\u001b[0m\u001b[0;34m,\u001b[0m \u001b[0mwidth\u001b[0m\u001b[0;34m-\u001b[0m\u001b[0;36m1\u001b[0m\u001b[0;34m)\u001b[0m\u001b[0;34m\u001b[0m\u001b[0;34m\u001b[0m\u001b[0m\n\u001b[0;32m----> 6\u001b[0;31m \u001b[0manswer\u001b[0m \u001b[0;34m=\u001b[0m \u001b[0mdfs\u001b[0m\u001b[0;34m(\u001b[0m\u001b[0;34m[\u001b[0m \u001b[0mstartin\u001b[0m \u001b[0;34m]\u001b[0m\u001b[0;34m,\u001b[0m \u001b[0mgoto\u001b[0m\u001b[0;34m,\u001b[0m \u001b[0mmap\u001b[0m \u001b[0;34m)\u001b[0m\u001b[0;34m\u001b[0m\u001b[0;34m\u001b[0m\u001b[0m\n\u001b[0m\u001b[1;32m      7\u001b[0m \u001b[0mtime_now\u001b[0m\u001b[0;34m=\u001b[0m \u001b[0mdatetime\u001b[0m\u001b[0;34m.\u001b[0m\u001b[0mnow\u001b[0m\u001b[0;34m(\u001b[0m\u001b[0;34m)\u001b[0m\u001b[0;34m.\u001b[0m\u001b[0mstrftime\u001b[0m\u001b[0;34m(\u001b[0m\u001b[0;34m\"%H:%M:%S\"\u001b[0m\u001b[0;34m)\u001b[0m\u001b[0;34m\u001b[0m\u001b[0;34m\u001b[0m\u001b[0m\n\u001b[1;32m      8\u001b[0m \u001b[0mprint\u001b[0m\u001b[0;34m(\u001b[0m\u001b[0;34m\"-------------------------------------\"\u001b[0m\u001b[0;34m)\u001b[0m\u001b[0;34m\u001b[0m\u001b[0;34m\u001b[0m\u001b[0m\n",
            "\u001b[0;32m<ipython-input-21-dbe9b621d287>\u001b[0m in \u001b[0;36mdfs\u001b[0;34m(paths, target, graph)\u001b[0m\n\u001b[1;32m     20\u001b[0m         \u001b[0;32mif\u001b[0m \u001b[0mn\u001b[0m \u001b[0;32mnot\u001b[0m \u001b[0;32min\u001b[0m \u001b[0mpath\u001b[0m\u001b[0;34m:\u001b[0m\u001b[0;34m\u001b[0m\u001b[0;34m\u001b[0m\u001b[0m\n\u001b[1;32m     21\u001b[0m           \u001b[0mnewPaths\u001b[0m \u001b[0;34m=\u001b[0m \u001b[0mnewPaths\u001b[0m \u001b[0;34m+\u001b[0m \u001b[0;34m[\u001b[0m \u001b[0mpath\u001b[0m \u001b[0;34m+\u001b[0m \u001b[0;34m[\u001b[0m \u001b[0mn\u001b[0m \u001b[0;34m]\u001b[0m\u001b[0;34m]\u001b[0m\u001b[0;34m\u001b[0m\u001b[0;34m\u001b[0m\u001b[0m\n\u001b[0;32m---> 22\u001b[0;31m   \u001b[0;32mreturn\u001b[0m \u001b[0mdfs\u001b[0m\u001b[0;34m(\u001b[0m\u001b[0mnewPaths\u001b[0m\u001b[0;34m,\u001b[0m \u001b[0mtarget\u001b[0m\u001b[0;34m,\u001b[0m \u001b[0mgraph\u001b[0m\u001b[0;34m)\u001b[0m\u001b[0;34m\u001b[0m\u001b[0;34m\u001b[0m\u001b[0m\n\u001b[0m\u001b[1;32m     23\u001b[0m \u001b[0;34m\u001b[0m\u001b[0m\n\u001b[1;32m     24\u001b[0m \u001b[0;34m\u001b[0m\u001b[0m\n",
            "\u001b[0;32m<ipython-input-21-dbe9b621d287>\u001b[0m in \u001b[0;36mdfs\u001b[0;34m(paths, target, graph)\u001b[0m\n\u001b[1;32m     20\u001b[0m         \u001b[0;32mif\u001b[0m \u001b[0mn\u001b[0m \u001b[0;32mnot\u001b[0m \u001b[0;32min\u001b[0m \u001b[0mpath\u001b[0m\u001b[0;34m:\u001b[0m\u001b[0;34m\u001b[0m\u001b[0;34m\u001b[0m\u001b[0m\n\u001b[1;32m     21\u001b[0m           \u001b[0mnewPaths\u001b[0m \u001b[0;34m=\u001b[0m \u001b[0mnewPaths\u001b[0m \u001b[0;34m+\u001b[0m \u001b[0;34m[\u001b[0m \u001b[0mpath\u001b[0m \u001b[0;34m+\u001b[0m \u001b[0;34m[\u001b[0m \u001b[0mn\u001b[0m \u001b[0;34m]\u001b[0m\u001b[0;34m]\u001b[0m\u001b[0;34m\u001b[0m\u001b[0;34m\u001b[0m\u001b[0m\n\u001b[0;32m---> 22\u001b[0;31m   \u001b[0;32mreturn\u001b[0m \u001b[0mdfs\u001b[0m\u001b[0;34m(\u001b[0m\u001b[0mnewPaths\u001b[0m\u001b[0;34m,\u001b[0m \u001b[0mtarget\u001b[0m\u001b[0;34m,\u001b[0m \u001b[0mgraph\u001b[0m\u001b[0;34m)\u001b[0m\u001b[0;34m\u001b[0m\u001b[0;34m\u001b[0m\u001b[0m\n\u001b[0m\u001b[1;32m     23\u001b[0m \u001b[0;34m\u001b[0m\u001b[0m\n\u001b[1;32m     24\u001b[0m \u001b[0;34m\u001b[0m\u001b[0m\n",
            "\u001b[0;32m<ipython-input-21-dbe9b621d287>\u001b[0m in \u001b[0;36mdfs\u001b[0;34m(paths, target, graph)\u001b[0m\n\u001b[1;32m     20\u001b[0m         \u001b[0;32mif\u001b[0m \u001b[0mn\u001b[0m \u001b[0;32mnot\u001b[0m \u001b[0;32min\u001b[0m \u001b[0mpath\u001b[0m\u001b[0;34m:\u001b[0m\u001b[0;34m\u001b[0m\u001b[0;34m\u001b[0m\u001b[0m\n\u001b[1;32m     21\u001b[0m           \u001b[0mnewPaths\u001b[0m \u001b[0;34m=\u001b[0m \u001b[0mnewPaths\u001b[0m \u001b[0;34m+\u001b[0m \u001b[0;34m[\u001b[0m \u001b[0mpath\u001b[0m \u001b[0;34m+\u001b[0m \u001b[0;34m[\u001b[0m \u001b[0mn\u001b[0m \u001b[0;34m]\u001b[0m\u001b[0;34m]\u001b[0m\u001b[0;34m\u001b[0m\u001b[0;34m\u001b[0m\u001b[0m\n\u001b[0;32m---> 22\u001b[0;31m   \u001b[0;32mreturn\u001b[0m \u001b[0mdfs\u001b[0m\u001b[0;34m(\u001b[0m\u001b[0mnewPaths\u001b[0m\u001b[0;34m,\u001b[0m \u001b[0mtarget\u001b[0m\u001b[0;34m,\u001b[0m \u001b[0mgraph\u001b[0m\u001b[0;34m)\u001b[0m\u001b[0;34m\u001b[0m\u001b[0;34m\u001b[0m\u001b[0m\n\u001b[0m\u001b[1;32m     23\u001b[0m \u001b[0;34m\u001b[0m\u001b[0m\n\u001b[1;32m     24\u001b[0m \u001b[0;34m\u001b[0m\u001b[0m\n",
            "\u001b[0;32m<ipython-input-21-dbe9b621d287>\u001b[0m in \u001b[0;36mdfs\u001b[0;34m(paths, target, graph)\u001b[0m\n\u001b[1;32m     20\u001b[0m         \u001b[0;32mif\u001b[0m \u001b[0mn\u001b[0m \u001b[0;32mnot\u001b[0m \u001b[0;32min\u001b[0m \u001b[0mpath\u001b[0m\u001b[0;34m:\u001b[0m\u001b[0;34m\u001b[0m\u001b[0;34m\u001b[0m\u001b[0m\n\u001b[1;32m     21\u001b[0m           \u001b[0mnewPaths\u001b[0m \u001b[0;34m=\u001b[0m \u001b[0mnewPaths\u001b[0m \u001b[0;34m+\u001b[0m \u001b[0;34m[\u001b[0m \u001b[0mpath\u001b[0m \u001b[0;34m+\u001b[0m \u001b[0;34m[\u001b[0m \u001b[0mn\u001b[0m \u001b[0;34m]\u001b[0m\u001b[0;34m]\u001b[0m\u001b[0;34m\u001b[0m\u001b[0;34m\u001b[0m\u001b[0m\n\u001b[0;32m---> 22\u001b[0;31m   \u001b[0;32mreturn\u001b[0m \u001b[0mdfs\u001b[0m\u001b[0;34m(\u001b[0m\u001b[0mnewPaths\u001b[0m\u001b[0;34m,\u001b[0m \u001b[0mtarget\u001b[0m\u001b[0;34m,\u001b[0m \u001b[0mgraph\u001b[0m\u001b[0;34m)\u001b[0m\u001b[0;34m\u001b[0m\u001b[0;34m\u001b[0m\u001b[0m\n\u001b[0m\u001b[1;32m     23\u001b[0m \u001b[0;34m\u001b[0m\u001b[0m\n\u001b[1;32m     24\u001b[0m \u001b[0;34m\u001b[0m\u001b[0m\n",
            "\u001b[0;32m<ipython-input-21-dbe9b621d287>\u001b[0m in \u001b[0;36mdfs\u001b[0;34m(paths, target, graph)\u001b[0m\n\u001b[1;32m     20\u001b[0m         \u001b[0;32mif\u001b[0m \u001b[0mn\u001b[0m \u001b[0;32mnot\u001b[0m \u001b[0;32min\u001b[0m \u001b[0mpath\u001b[0m\u001b[0;34m:\u001b[0m\u001b[0;34m\u001b[0m\u001b[0;34m\u001b[0m\u001b[0m\n\u001b[1;32m     21\u001b[0m           \u001b[0mnewPaths\u001b[0m \u001b[0;34m=\u001b[0m \u001b[0mnewPaths\u001b[0m \u001b[0;34m+\u001b[0m \u001b[0;34m[\u001b[0m \u001b[0mpath\u001b[0m \u001b[0;34m+\u001b[0m \u001b[0;34m[\u001b[0m \u001b[0mn\u001b[0m \u001b[0;34m]\u001b[0m\u001b[0;34m]\u001b[0m\u001b[0;34m\u001b[0m\u001b[0;34m\u001b[0m\u001b[0m\n\u001b[0;32m---> 22\u001b[0;31m   \u001b[0;32mreturn\u001b[0m \u001b[0mdfs\u001b[0m\u001b[0;34m(\u001b[0m\u001b[0mnewPaths\u001b[0m\u001b[0;34m,\u001b[0m \u001b[0mtarget\u001b[0m\u001b[0;34m,\u001b[0m \u001b[0mgraph\u001b[0m\u001b[0;34m)\u001b[0m\u001b[0;34m\u001b[0m\u001b[0;34m\u001b[0m\u001b[0m\n\u001b[0m\u001b[1;32m     23\u001b[0m \u001b[0;34m\u001b[0m\u001b[0m\n\u001b[1;32m     24\u001b[0m \u001b[0;34m\u001b[0m\u001b[0m\n",
            "\u001b[0;32m<ipython-input-21-dbe9b621d287>\u001b[0m in \u001b[0;36mdfs\u001b[0;34m(paths, target, graph)\u001b[0m\n\u001b[1;32m     20\u001b[0m         \u001b[0;32mif\u001b[0m \u001b[0mn\u001b[0m \u001b[0;32mnot\u001b[0m \u001b[0;32min\u001b[0m \u001b[0mpath\u001b[0m\u001b[0;34m:\u001b[0m\u001b[0;34m\u001b[0m\u001b[0;34m\u001b[0m\u001b[0m\n\u001b[1;32m     21\u001b[0m           \u001b[0mnewPaths\u001b[0m \u001b[0;34m=\u001b[0m \u001b[0mnewPaths\u001b[0m \u001b[0;34m+\u001b[0m \u001b[0;34m[\u001b[0m \u001b[0mpath\u001b[0m \u001b[0;34m+\u001b[0m \u001b[0;34m[\u001b[0m \u001b[0mn\u001b[0m \u001b[0;34m]\u001b[0m\u001b[0;34m]\u001b[0m\u001b[0;34m\u001b[0m\u001b[0;34m\u001b[0m\u001b[0m\n\u001b[0;32m---> 22\u001b[0;31m   \u001b[0;32mreturn\u001b[0m \u001b[0mdfs\u001b[0m\u001b[0;34m(\u001b[0m\u001b[0mnewPaths\u001b[0m\u001b[0;34m,\u001b[0m \u001b[0mtarget\u001b[0m\u001b[0;34m,\u001b[0m \u001b[0mgraph\u001b[0m\u001b[0;34m)\u001b[0m\u001b[0;34m\u001b[0m\u001b[0;34m\u001b[0m\u001b[0m\n\u001b[0m\u001b[1;32m     23\u001b[0m \u001b[0;34m\u001b[0m\u001b[0m\n\u001b[1;32m     24\u001b[0m \u001b[0;34m\u001b[0m\u001b[0m\n",
            "\u001b[0;32m<ipython-input-21-dbe9b621d287>\u001b[0m in \u001b[0;36mdfs\u001b[0;34m(paths, target, graph)\u001b[0m\n\u001b[1;32m     20\u001b[0m         \u001b[0;32mif\u001b[0m \u001b[0mn\u001b[0m \u001b[0;32mnot\u001b[0m \u001b[0;32min\u001b[0m \u001b[0mpath\u001b[0m\u001b[0;34m:\u001b[0m\u001b[0;34m\u001b[0m\u001b[0;34m\u001b[0m\u001b[0m\n\u001b[1;32m     21\u001b[0m           \u001b[0mnewPaths\u001b[0m \u001b[0;34m=\u001b[0m \u001b[0mnewPaths\u001b[0m \u001b[0;34m+\u001b[0m \u001b[0;34m[\u001b[0m \u001b[0mpath\u001b[0m \u001b[0;34m+\u001b[0m \u001b[0;34m[\u001b[0m \u001b[0mn\u001b[0m \u001b[0;34m]\u001b[0m\u001b[0;34m]\u001b[0m\u001b[0;34m\u001b[0m\u001b[0;34m\u001b[0m\u001b[0m\n\u001b[0;32m---> 22\u001b[0;31m   \u001b[0;32mreturn\u001b[0m \u001b[0mdfs\u001b[0m\u001b[0;34m(\u001b[0m\u001b[0mnewPaths\u001b[0m\u001b[0;34m,\u001b[0m \u001b[0mtarget\u001b[0m\u001b[0;34m,\u001b[0m \u001b[0mgraph\u001b[0m\u001b[0;34m)\u001b[0m\u001b[0;34m\u001b[0m\u001b[0;34m\u001b[0m\u001b[0m\n\u001b[0m\u001b[1;32m     23\u001b[0m \u001b[0;34m\u001b[0m\u001b[0m\n\u001b[1;32m     24\u001b[0m \u001b[0;34m\u001b[0m\u001b[0m\n",
            "\u001b[0;32m<ipython-input-21-dbe9b621d287>\u001b[0m in \u001b[0;36mdfs\u001b[0;34m(paths, target, graph)\u001b[0m\n\u001b[1;32m     20\u001b[0m         \u001b[0;32mif\u001b[0m \u001b[0mn\u001b[0m \u001b[0;32mnot\u001b[0m \u001b[0;32min\u001b[0m \u001b[0mpath\u001b[0m\u001b[0;34m:\u001b[0m\u001b[0;34m\u001b[0m\u001b[0;34m\u001b[0m\u001b[0m\n\u001b[1;32m     21\u001b[0m           \u001b[0mnewPaths\u001b[0m \u001b[0;34m=\u001b[0m \u001b[0mnewPaths\u001b[0m \u001b[0;34m+\u001b[0m \u001b[0;34m[\u001b[0m \u001b[0mpath\u001b[0m \u001b[0;34m+\u001b[0m \u001b[0;34m[\u001b[0m \u001b[0mn\u001b[0m \u001b[0;34m]\u001b[0m\u001b[0;34m]\u001b[0m\u001b[0;34m\u001b[0m\u001b[0;34m\u001b[0m\u001b[0m\n\u001b[0;32m---> 22\u001b[0;31m   \u001b[0;32mreturn\u001b[0m \u001b[0mdfs\u001b[0m\u001b[0;34m(\u001b[0m\u001b[0mnewPaths\u001b[0m\u001b[0;34m,\u001b[0m \u001b[0mtarget\u001b[0m\u001b[0;34m,\u001b[0m \u001b[0mgraph\u001b[0m\u001b[0;34m)\u001b[0m\u001b[0;34m\u001b[0m\u001b[0;34m\u001b[0m\u001b[0m\n\u001b[0m\u001b[1;32m     23\u001b[0m \u001b[0;34m\u001b[0m\u001b[0m\n\u001b[1;32m     24\u001b[0m \u001b[0;34m\u001b[0m\u001b[0m\n",
            "\u001b[0;32m<ipython-input-21-dbe9b621d287>\u001b[0m in \u001b[0;36mdfs\u001b[0;34m(paths, target, graph)\u001b[0m\n\u001b[1;32m      1\u001b[0m \u001b[0;32mdef\u001b[0m \u001b[0mdfs\u001b[0m\u001b[0;34m(\u001b[0m\u001b[0mpaths\u001b[0m\u001b[0;34m,\u001b[0m \u001b[0mtarget\u001b[0m\u001b[0;34m,\u001b[0m \u001b[0mgraph\u001b[0m\u001b[0;34m)\u001b[0m\u001b[0;34m:\u001b[0m\u001b[0;34m\u001b[0m\u001b[0;34m\u001b[0m\u001b[0m\n\u001b[1;32m      2\u001b[0m   \u001b[0mprint\u001b[0m\u001b[0;34m(\u001b[0m\u001b[0mlen\u001b[0m\u001b[0;34m(\u001b[0m\u001b[0mpaths\u001b[0m\u001b[0;34m)\u001b[0m\u001b[0;34m)\u001b[0m\u001b[0;34m\u001b[0m\u001b[0;34m\u001b[0m\u001b[0m\n\u001b[1;32m      3\u001b[0m   \u001b[0;32mglobal\u001b[0m \u001b[0msolution\u001b[0m\u001b[0;34m\u001b[0m\u001b[0;34m\u001b[0m\u001b[0m\n\u001b[1;32m      4\u001b[0m   \u001b[0;32mif\u001b[0m \u001b[0mpaths\u001b[0m \u001b[0;34m==\u001b[0m \u001b[0;34m[\u001b[0m\u001b[0;34m]\u001b[0m\u001b[0;34m:\u001b[0m\u001b[0;34m\u001b[0m\u001b[0;34m\u001b[0m\u001b[0m\n\u001b[1;32m      5\u001b[0m     \u001b[0;32mreturn\u001b[0m \u001b[0mpaths\u001b[0m\u001b[0;34m\u001b[0m\u001b[0;34m\u001b[0m\u001b[0m\n",
            "\u001b[0;31mKeyboardInterrupt\u001b[0m: "
          ]
        }
      ]
    },
    {
      "cell_type": "code",
      "source": [
        "solution"
      ],
      "metadata": {
        "colab": {
          "base_uri": "https://localhost:8080/"
        },
        "id": "rmLDQQ0mcHJu",
        "outputId": "a06dc9a8-2ca1-4b06-975c-ded8a065e32b"
      },
      "execution_count": null,
      "outputs": [
        {
          "output_type": "execute_result",
          "data": {
            "text/plain": [
              "[(0, 0), (1, 1), (2, 2), (2, 3), (3, 4), (3, 5), (3, 6)]"
            ]
          },
          "metadata": {},
          "execution_count": 74
        }
      ]
    },
    {
      "cell_type": "code",
      "source": [
        "mp = mp[1:]\n",
        "graph = {}\n",
        "\n",
        "(line, column, width) = (0, 0, 0)\n",
        "for c in mp:\n",
        "  if c == '\\n':\n",
        "    line += 1\n",
        "    width = column\n",
        "    column = 0\n",
        "  else:\n",
        "    if c == 'X':\n",
        "      pass\n",
        "    else:\n",
        "      graph[line, column] = []\n",
        "    column += 1\n",
        "height = line\n",
        "print(height, width)\n",
        "graph[\"width\"] = width\n",
        "graph[\"height\"] = height\n",
        "\n",
        "for line in range(graph[\"height\"]):\n",
        "  for column in range(graph[\"width\"]):\n",
        "    vertex = (line, column)\n",
        "    if vertex in graph:\n",
        "      for dy in [-1, 0, 1]:\n",
        "        for dx in [-1, 0, 1]:\n",
        "          n = (line + dx, column + dy)\n",
        "          if n in graph and n != vertex:\n",
        "            graph[vertex] += [ n ]\n",
        "          else:\n",
        "            pass"
      ],
      "metadata": {
        "colab": {
          "base_uri": "https://localhost:8080/"
        },
        "id": "LC1Exm2RjNUu",
        "outputId": "e2146acf-503c-4dc8-f90d-1600a3d608e3"
      },
      "execution_count": null,
      "outputs": [
        {
          "output_type": "stream",
          "name": "stdout",
          "text": [
            "4 7\n"
          ]
        }
      ]
    },
    {
      "cell_type": "code",
      "source": [
        "graph"
      ],
      "metadata": {
        "colab": {
          "base_uri": "https://localhost:8080/"
        },
        "id": "VwvIbAeSixRN",
        "outputId": "798f11b2-957d-46ab-a926-ee084f999baa"
      },
      "execution_count": null,
      "outputs": [
        {
          "output_type": "execute_result",
          "data": {
            "text/plain": [
              "{(0, 0): [(1, 0), (0, 1), (1, 1)],\n",
              " (0, 1): [(0, 0), (1, 0), (1, 1), (0, 2), (1, 2)],\n",
              " (0, 2): [(0, 1), (1, 1), (1, 2), (0, 3), (1, 3)],\n",
              " (0, 3): [(0, 2), (1, 2), (1, 3), (0, 4), (1, 4)],\n",
              " (0, 4): [(0, 3), (1, 3), (1, 4), (0, 5), (1, 5)],\n",
              " (0, 5): [(0, 4), (1, 4), (1, 5), (0, 6), (1, 6)],\n",
              " (0, 6): [(0, 5), (1, 5), (1, 6)],\n",
              " (1, 0): [(0, 0), (2, 0), (0, 1), (1, 1), (2, 1)],\n",
              " (1, 1): [(0, 0), (1, 0), (2, 0), (0, 1), (2, 1), (0, 2), (1, 2), (2, 2)],\n",
              " (1, 2): [(0, 1), (1, 1), (2, 1), (0, 2), (2, 2), (0, 3), (1, 3), (2, 3)],\n",
              " (1, 3): [(0, 2), (1, 2), (2, 2), (0, 3), (2, 3), (0, 4), (1, 4), (2, 4)],\n",
              " (1, 4): [(0, 3), (1, 3), (2, 3), (0, 4), (2, 4), (0, 5), (1, 5), (2, 5)],\n",
              " (1, 5): [(0, 4), (1, 4), (2, 4), (0, 5), (2, 5), (0, 6), (1, 6), (2, 6)],\n",
              " (1, 6): [(0, 5), (1, 5), (2, 5), (0, 6), (2, 6)],\n",
              " (2, 0): [(1, 0), (3, 0), (1, 1), (2, 1), (3, 1)],\n",
              " (2, 1): [(1, 0), (2, 0), (3, 0), (1, 1), (3, 1), (1, 2), (2, 2), (3, 2)],\n",
              " (2, 2): [(1, 1), (2, 1), (3, 1), (1, 2), (3, 2), (1, 3), (2, 3), (3, 3)],\n",
              " (2, 3): [(1, 2), (2, 2), (3, 2), (1, 3), (3, 3), (1, 4), (2, 4), (3, 4)],\n",
              " (2, 4): [(1, 3), (2, 3), (3, 3), (1, 4), (3, 4), (1, 5), (2, 5), (3, 5)],\n",
              " (2, 5): [(1, 4), (2, 4), (3, 4), (1, 5), (3, 5), (1, 6), (2, 6), (3, 6)],\n",
              " (2, 6): [(1, 5), (2, 5), (3, 5), (1, 6), (3, 6)],\n",
              " (3, 0): [(2, 0), (2, 1), (3, 1)],\n",
              " (3, 1): [(2, 0), (3, 0), (2, 1), (2, 2), (3, 2)],\n",
              " (3, 2): [(2, 1), (3, 1), (2, 2), (2, 3), (3, 3)],\n",
              " (3, 3): [(2, 2), (3, 2), (2, 3), (2, 4), (3, 4)],\n",
              " (3, 4): [(2, 3), (3, 3), (2, 4), (2, 5), (3, 5)],\n",
              " (3, 5): [(2, 4), (3, 4), (2, 5), (2, 6), (3, 6)],\n",
              " (3, 6): [(2, 5), (3, 5), (2, 6)],\n",
              " 'width': 7,\n",
              " 'height': 4}"
            ]
          },
          "metadata": {},
          "execution_count": 76
        }
      ]
    },
    {
      "cell_type": "code",
      "source": [
        "report(mp, solution)"
      ],
      "metadata": {
        "colab": {
          "base_uri": "https://localhost:8080/"
        },
        "id": "XVm9ZetyjSGw",
        "outputId": "f142d1d5-1920-4691-b940-31407680f896"
      },
      "execution_count": null,
      "outputs": [
        {
          "output_type": "stream",
          "name": "stdout",
          "text": [
            "@ . . . . . . \n",
            ". @ . . . . . \n",
            ". . @ @ . . . \n",
            ". . . . @ @ @ \n"
          ]
        }
      ]
    },
    {
      "cell_type": "code",
      "source": [],
      "metadata": {
        "id": "7uGQapNFkQxI"
      },
      "execution_count": null,
      "outputs": []
    }
  ]
}