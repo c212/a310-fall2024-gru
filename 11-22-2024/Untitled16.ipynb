{
  "nbformat": 4,
  "nbformat_minor": 0,
  "metadata": {
    "colab": {
      "provenance": []
    },
    "kernelspec": {
      "name": "python3",
      "display_name": "Python 3"
    },
    "language_info": {
      "name": "python"
    }
  },
  "cells": [
    {
      "cell_type": "code",
      "execution_count": 52,
      "metadata": {
        "id": "O5q7zuxmBV3N"
      },
      "outputs": [],
      "source": [
        "graph = {}"
      ]
    },
    {
      "cell_type": "code",
      "source": [
        "graph[\"D\"] = [\"B\", \"H\"]\n",
        "graph[\"B\"] = ['D', 'H', 'F']\n",
        "graph[\"H\"] = ['D', 'B', 'T', 'C']\n",
        "graph[\"F\"] = ['B', 'T', 'M']\n",
        "graph[\"T\"] = ['F', 'H', 'C', 'M', 'C']\n",
        "graph[\"C\"] = ['H', 'T', 'M']\n",
        "graph[\"M\"] = ['F', 'T', 'C']"
      ],
      "metadata": {
        "id": "RdxIJyjdBpdy"
      },
      "execution_count": 53,
      "outputs": []
    },
    {
      "cell_type": "code",
      "source": [
        "graph['H'][3]"
      ],
      "metadata": {
        "colab": {
          "base_uri": "https://localhost:8080/",
          "height": 35
        },
        "id": "EYaLOsqbEMGX",
        "outputId": "c585b45a-2776-4c6b-c29d-795d6ff1a369"
      },
      "execution_count": 54,
      "outputs": [
        {
          "output_type": "execute_result",
          "data": {
            "text/plain": [
              "'C'"
            ],
            "application/vnd.google.colaboratory.intrinsic+json": {
              "type": "string"
            }
          },
          "metadata": {},
          "execution_count": 54
        }
      ]
    },
    {
      "cell_type": "code",
      "source": [
        "def fun(paths, where, x):\n",
        "  # print(paths)\n",
        "  if (paths == []):\n",
        "    # return paths\n",
        "    print(\"Sorry, not possible.\")\n",
        "  else:\n",
        "    newpaths = []\n",
        "    for p in paths:\n",
        "      if (p[-1] == where):\n",
        "        print(p, \"is a solution\")\n",
        "        return\n",
        "      else:\n",
        "        n = x[p[-1]]\n",
        "        for nb in n:\n",
        "          if nb in p:\n",
        "            pass\n",
        "          else:\n",
        "            newpaths = newpaths + [p + [nb]]\n",
        "    fun(newpaths, where, x)"
      ],
      "metadata": {
        "id": "K9vREeOzEQ4e"
      },
      "execution_count": 55,
      "outputs": []
    },
    {
      "cell_type": "code",
      "source": [
        "fun([['D']], 'M', graph)"
      ],
      "metadata": {
        "colab": {
          "base_uri": "https://localhost:8080/"
        },
        "id": "yyG4IaXZGH0D",
        "outputId": "5bf9a230-edd2-475d-b91b-50a015688058"
      },
      "execution_count": 56,
      "outputs": [
        {
          "output_type": "stream",
          "name": "stdout",
          "text": [
            "['D', 'B', 'F', 'M'] is a solution\n"
          ]
        }
      ]
    },
    {
      "cell_type": "code",
      "source": [
        "mp = \"\"\"\n",
        "..X..\n",
        "X..X.\n",
        "...X.\n",
        "\"\"\""
      ],
      "metadata": {
        "id": "jamMQTyyGIyT"
      },
      "execution_count": 57,
      "outputs": []
    },
    {
      "cell_type": "code",
      "source": [
        "print(mp)"
      ],
      "metadata": {
        "colab": {
          "base_uri": "https://localhost:8080/"
        },
        "id": "Mg84v4umXCCE",
        "outputId": "912cfa84-73de-4285-ad7f-33ff34c35101"
      },
      "execution_count": 58,
      "outputs": [
        {
          "output_type": "stream",
          "name": "stdout",
          "text": [
            "\n",
            "..X..\n",
            "X..X.\n",
            "...X.\n",
            "\n"
          ]
        }
      ]
    },
    {
      "cell_type": "code",
      "source": [
        "mp"
      ],
      "metadata": {
        "colab": {
          "base_uri": "https://localhost:8080/",
          "height": 35
        },
        "id": "54EIiszfXDa0",
        "outputId": "90fe58b6-3d7c-48c0-f8b7-605d2db9acea"
      },
      "execution_count": 59,
      "outputs": [
        {
          "output_type": "execute_result",
          "data": {
            "text/plain": [
              "'\\n..X..\\nX..X.\\n...X.\\n'"
            ],
            "application/vnd.google.colaboratory.intrinsic+json": {
              "type": "string"
            }
          },
          "metadata": {},
          "execution_count": 59
        }
      ]
    },
    {
      "cell_type": "code",
      "source": [
        "graph = {}"
      ],
      "metadata": {
        "id": "A1dJ2HFAXSuu"
      },
      "execution_count": 60,
      "outputs": []
    },
    {
      "cell_type": "code",
      "source": [
        "mp = mp[1:]"
      ],
      "metadata": {
        "id": "gSuykh9gXZu2"
      },
      "execution_count": 61,
      "outputs": []
    },
    {
      "cell_type": "code",
      "source": [
        "print(mp)"
      ],
      "metadata": {
        "colab": {
          "base_uri": "https://localhost:8080/"
        },
        "id": "ClVlQdFJZYG6",
        "outputId": "41dd4742-0caa-4e5a-da96-8c57acf7833e"
      },
      "execution_count": 62,
      "outputs": [
        {
          "output_type": "stream",
          "name": "stdout",
          "text": [
            "..X..\n",
            "X..X.\n",
            "...X.\n",
            "\n"
          ]
        }
      ]
    },
    {
      "cell_type": "code",
      "source": [
        "(line, column, width) = (0, 0, 0)\n",
        "for c in mp:\n",
        "  if c == '\\n':\n",
        "    line += 1\n",
        "    width = column\n",
        "    column = 0\n",
        "  else:\n",
        "    if c == 'X':\n",
        "      pass\n",
        "    else:\n",
        "      graph[line, column] = []\n",
        "    column += 1\n",
        "height = line\n",
        "print(height, width)\n",
        "graph[\"width\"] = width\n",
        "graph[\"height\"] = height"
      ],
      "metadata": {
        "colab": {
          "base_uri": "https://localhost:8080/"
        },
        "id": "FlVPLjdwZmvk",
        "outputId": "944d7c9e-3888-4a68-9c0a-16a75f1518f0"
      },
      "execution_count": 63,
      "outputs": [
        {
          "output_type": "stream",
          "name": "stdout",
          "text": [
            "3 5\n"
          ]
        }
      ]
    },
    {
      "cell_type": "code",
      "source": [
        "graph"
      ],
      "metadata": {
        "colab": {
          "base_uri": "https://localhost:8080/"
        },
        "id": "uxcKKmrvaBtN",
        "outputId": "5122142e-4733-4a88-e9c1-b90a2d0a51f6"
      },
      "execution_count": 64,
      "outputs": [
        {
          "output_type": "execute_result",
          "data": {
            "text/plain": [
              "{(0, 0): [],\n",
              " (0, 1): [],\n",
              " (0, 3): [],\n",
              " (0, 4): [],\n",
              " (1, 1): [],\n",
              " (1, 2): [],\n",
              " (1, 4): [],\n",
              " (2, 0): [],\n",
              " (2, 1): [],\n",
              " (2, 2): [],\n",
              " (2, 4): [],\n",
              " 'width': 5,\n",
              " 'height': 3}"
            ]
          },
          "metadata": {},
          "execution_count": 64
        }
      ]
    },
    {
      "cell_type": "code",
      "source": [
        "fun([[(0, 0)]], (2, 2), graph)"
      ],
      "metadata": {
        "colab": {
          "base_uri": "https://localhost:8080/"
        },
        "id": "eo7sM3jra0Qx",
        "outputId": "b6e45838-c9c6-475d-8f4e-74072c8db852"
      },
      "execution_count": 65,
      "outputs": [
        {
          "output_type": "stream",
          "name": "stdout",
          "text": [
            "Sorry, not possible.\n"
          ]
        }
      ]
    },
    {
      "cell_type": "code",
      "source": [
        "for line in range(graph[\"height\"]):\n",
        "  for column in range(graph[\"width\"]):\n",
        "    vertex = (line, column)\n",
        "    if vertex in graph:\n",
        "      for dy in [-1, 0, 1]:\n",
        "        for dx in [-1, 0, 1]:\n",
        "          n = (line + dx, column + dy)\n",
        "          if n in graph and n != vertex:\n",
        "            graph[vertex] += [ n ]\n",
        "          else:\n",
        "            pass\n"
      ],
      "metadata": {
        "id": "35gwntfgdAhb"
      },
      "execution_count": 66,
      "outputs": []
    },
    {
      "cell_type": "code",
      "source": [
        "graph"
      ],
      "metadata": {
        "colab": {
          "base_uri": "https://localhost:8080/"
        },
        "id": "ZWR1sx21diW8",
        "outputId": "6f3a8263-c959-450b-c0ad-322b1a5930ce"
      },
      "execution_count": 67,
      "outputs": [
        {
          "output_type": "execute_result",
          "data": {
            "text/plain": [
              "{(0, 0): [(0, 1), (1, 1)],\n",
              " (0, 1): [(0, 0), (1, 1), (1, 2)],\n",
              " (0, 3): [(1, 2), (0, 4), (1, 4)],\n",
              " (0, 4): [(0, 3), (1, 4)],\n",
              " (1, 1): [(0, 0), (2, 0), (0, 1), (2, 1), (1, 2), (2, 2)],\n",
              " (1, 2): [(0, 1), (1, 1), (2, 1), (2, 2), (0, 3)],\n",
              " (1, 4): [(0, 3), (0, 4), (2, 4)],\n",
              " (2, 0): [(1, 1), (2, 1)],\n",
              " (2, 1): [(2, 0), (1, 1), (1, 2), (2, 2)],\n",
              " (2, 2): [(1, 1), (2, 1), (1, 2)],\n",
              " (2, 4): [(1, 4)],\n",
              " 'width': 5,\n",
              " 'height': 3}"
            ]
          },
          "metadata": {},
          "execution_count": 67
        }
      ]
    },
    {
      "cell_type": "code",
      "source": [
        "def show(paths):\n",
        "  for p in paths:\n",
        "    print(\"  \", p)\n",
        "  return"
      ],
      "metadata": {
        "id": "xrS0dwVfegOG"
      },
      "execution_count": 68,
      "outputs": []
    },
    {
      "cell_type": "code",
      "source": [
        "def sp(paths, target, graph):\n",
        "  if paths == []:\n",
        "    print(\"There is no path to \", target)\n",
        "    return\n",
        "  print(len(paths), \"paths with\", len(paths[0]), \"stops\")\n",
        "  newpaths = []\n",
        "  for p in paths:\n",
        "    if p[-1] == target:\n",
        "      print(\"Solution: \", p)\n",
        "      return p # how many answers will I get?\n",
        "      # answer: only the first one\n",
        "  for p in paths:\n",
        "    last = p[-1]\n",
        "    neighbors = graph[last]\n",
        "    for n in neighbors:\n",
        "      if n in p:\n",
        "        pass\n",
        "      else:\n",
        "        drew = p + [ n ]\n",
        "        newpaths = newpaths + [ drew ]\n",
        "  return sp(newpaths, target, graph)\n",
        "\n"
      ],
      "metadata": {
        "id": "ce_tHNw4EPrt"
      },
      "execution_count": 69,
      "outputs": []
    },
    {
      "cell_type": "code",
      "source": [
        "answer = sp([[(0, 0)]], (2, 2), graph)"
      ],
      "metadata": {
        "colab": {
          "base_uri": "https://localhost:8080/"
        },
        "id": "6gfNX1m2IsE5",
        "outputId": "fad00d61-f423-4e11-a702-629cb9431b5e"
      },
      "execution_count": 70,
      "outputs": [
        {
          "output_type": "stream",
          "name": "stdout",
          "text": [
            "1 paths with 1 stops\n",
            "2 paths with 2 stops\n",
            "7 paths with 3 stops\n",
            "Solution:  [(0, 0), (1, 1), (2, 2)]\n"
          ]
        }
      ]
    },
    {
      "cell_type": "code",
      "source": [
        "startin = (0, 0)\n",
        "towards = (2, 4)\n",
        "print(mp)"
      ],
      "metadata": {
        "colab": {
          "base_uri": "https://localhost:8080/"
        },
        "id": "oDqyRVnPI5Gt",
        "outputId": "62e2d8d9-5193-4211-d211-33d8fb795b9c"
      },
      "execution_count": 71,
      "outputs": [
        {
          "output_type": "stream",
          "name": "stdout",
          "text": [
            "..X..\n",
            "X..X.\n",
            "...X.\n",
            "\n"
          ]
        }
      ]
    },
    {
      "cell_type": "code",
      "source": [
        "from datetime import datetime\n",
        "now = datetime.now()\n",
        "current_time = now.strftime(\"%H:%M:%S\")\n",
        "print(\"Current time = \", current_time)"
      ],
      "metadata": {
        "colab": {
          "base_uri": "https://localhost:8080/"
        },
        "id": "VWduzPmfJgru",
        "outputId": "308c9ca8-098a-4613-a58a-e1ba4a1c2125"
      },
      "execution_count": 72,
      "outputs": [
        {
          "output_type": "stream",
          "name": "stdout",
          "text": [
            "Current time =  21:15:05\n"
          ]
        }
      ]
    },
    {
      "cell_type": "code",
      "source": [
        "answer = sp([[startin]], towards, graph)\n",
        "\n",
        "now = datetime.now()\n",
        "current_time = now.strftime(\"%H:%M:%S\")\n",
        "print(\"Current time = \", current_time)"
      ],
      "metadata": {
        "colab": {
          "base_uri": "https://localhost:8080/"
        },
        "id": "Zgse4dcSKaeo",
        "outputId": "96ee4fcc-c52e-421a-97c7-50bb50162c9f"
      },
      "execution_count": 73,
      "outputs": [
        {
          "output_type": "stream",
          "name": "stdout",
          "text": [
            "1 paths with 1 stops\n",
            "2 paths with 2 stops\n",
            "7 paths with 3 stops\n",
            "19 paths with 4 stops\n",
            "38 paths with 5 stops\n",
            "51 paths with 6 stops\n",
            "Solution:  [(0, 0), (0, 1), (1, 2), (0, 3), (1, 4), (2, 4)]\n",
            "Current time =  21:15:07\n"
          ]
        }
      ]
    },
    {
      "cell_type": "code",
      "source": [
        "map = {}\n",
        "def report(mp, lon):\n",
        "  print(lon)\n",
        "  (line, column, width) = (0, 0, 0)\n",
        "  for c in mp:\n",
        "    if c == '\\n':\n",
        "      line += 1\n",
        "      width = column\n",
        "      column = 0\n",
        "    else:\n",
        "      location = (line, column)\n",
        "      if location in lon:\n",
        "        map[line, column] = '@'\n",
        "      column += 1\n",
        "  height = line\n",
        "  map[\"width\"] = width\n",
        "  map[\"height\"] = height\n",
        "  # return map\n",
        "  (w, h) = (map[\"width\"], map[\"height\"])\n",
        "  for lin in range(h):\n",
        "    for col in range(w):\n",
        "      location = (lin, col)\n",
        "      print(map[location], end=' ')\n",
        "    print()"
      ],
      "metadata": {
        "id": "U2Ac7pHBLE0a"
      },
      "execution_count": 77,
      "outputs": []
    },
    {
      "cell_type": "code",
      "source": [
        "report(mp, answer)"
      ],
      "metadata": {
        "colab": {
          "base_uri": "https://localhost:8080/",
          "height": 280
        },
        "id": "Jk_Jsg3QLtCV",
        "outputId": "c6a0a370-5615-4a0a-df49-db980062498a"
      },
      "execution_count": 79,
      "outputs": [
        {
          "output_type": "stream",
          "name": "stdout",
          "text": [
            "[(0, 0), (0, 1), (1, 2), (0, 3), (1, 4), (2, 4)]\n",
            "@ @ "
          ]
        },
        {
          "output_type": "error",
          "ename": "KeyError",
          "evalue": "(0, 2)",
          "traceback": [
            "\u001b[0;31m---------------------------------------------------------------------------\u001b[0m",
            "\u001b[0;31mKeyError\u001b[0m                                  Traceback (most recent call last)",
            "\u001b[0;32m<ipython-input-79-a4b5a4a2653a>\u001b[0m in \u001b[0;36m<cell line: 1>\u001b[0;34m()\u001b[0m\n\u001b[0;32m----> 1\u001b[0;31m \u001b[0mreport\u001b[0m\u001b[0;34m(\u001b[0m\u001b[0mmp\u001b[0m\u001b[0;34m,\u001b[0m \u001b[0manswer\u001b[0m\u001b[0;34m)\u001b[0m\u001b[0;34m\u001b[0m\u001b[0;34m\u001b[0m\u001b[0m\n\u001b[0m",
            "\u001b[0;32m<ipython-input-77-df43f58ff7d7>\u001b[0m in \u001b[0;36mreport\u001b[0;34m(mp, lon)\u001b[0m\n\u001b[1;32m     21\u001b[0m     \u001b[0;32mfor\u001b[0m \u001b[0mcol\u001b[0m \u001b[0;32min\u001b[0m \u001b[0mrange\u001b[0m\u001b[0;34m(\u001b[0m\u001b[0mw\u001b[0m\u001b[0;34m)\u001b[0m\u001b[0;34m:\u001b[0m\u001b[0;34m\u001b[0m\u001b[0;34m\u001b[0m\u001b[0m\n\u001b[1;32m     22\u001b[0m       \u001b[0mlocation\u001b[0m \u001b[0;34m=\u001b[0m \u001b[0;34m(\u001b[0m\u001b[0mlin\u001b[0m\u001b[0;34m,\u001b[0m \u001b[0mcol\u001b[0m\u001b[0;34m)\u001b[0m\u001b[0;34m\u001b[0m\u001b[0;34m\u001b[0m\u001b[0m\n\u001b[0;32m---> 23\u001b[0;31m       \u001b[0mprint\u001b[0m\u001b[0;34m(\u001b[0m\u001b[0mmap\u001b[0m\u001b[0;34m[\u001b[0m\u001b[0mlocation\u001b[0m\u001b[0;34m]\u001b[0m\u001b[0;34m,\u001b[0m \u001b[0mend\u001b[0m\u001b[0;34m=\u001b[0m\u001b[0;34m' '\u001b[0m\u001b[0;34m)\u001b[0m\u001b[0;34m\u001b[0m\u001b[0;34m\u001b[0m\u001b[0m\n\u001b[0m\u001b[1;32m     24\u001b[0m     \u001b[0mprint\u001b[0m\u001b[0;34m(\u001b[0m\u001b[0;34m)\u001b[0m\u001b[0;34m\u001b[0m\u001b[0;34m\u001b[0m\u001b[0m\n",
            "\u001b[0;31mKeyError\u001b[0m: (0, 2)"
          ]
        }
      ]
    },
    {
      "cell_type": "code",
      "source": [],
      "metadata": {
        "id": "hfEJSmsyLv0s"
      },
      "execution_count": null,
      "outputs": []
    }
  ]
}