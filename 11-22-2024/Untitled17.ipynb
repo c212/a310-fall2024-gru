{
  "nbformat": 4,
  "nbformat_minor": 0,
  "metadata": {
    "colab": {
      "provenance": []
    },
    "kernelspec": {
      "name": "python3",
      "display_name": "Python 3"
    },
    "language_info": {
      "name": "python"
    }
  },
  "cells": [
    {
      "cell_type": "code",
      "execution_count": null,
      "metadata": {
        "id": "hmam4FuDSppK"
      },
      "outputs": [],
      "source": [
        "mp = \"\"\"\n",
        "..X..\n",
        "X..X.\n",
        "...X.\n",
        "\"\"\""
      ]
    },
    {
      "cell_type": "code",
      "source": [
        "mp = mp[1:]"
      ],
      "metadata": {
        "id": "4Bi_fMsXTZe5"
      },
      "execution_count": null,
      "outputs": []
    },
    {
      "cell_type": "code",
      "source": [
        "mp"
      ],
      "metadata": {
        "colab": {
          "base_uri": "https://localhost:8080/",
          "height": 35
        },
        "id": "mAMSyI2STkOp",
        "outputId": "48e0020a-8f2a-4396-d38b-f674528a12c5"
      },
      "execution_count": null,
      "outputs": [
        {
          "output_type": "execute_result",
          "data": {
            "text/plain": [
              "'..X..\\nX..X.\\n...X.\\n'"
            ],
            "application/vnd.google.colaboratory.intrinsic+json": {
              "type": "string"
            }
          },
          "metadata": {},
          "execution_count": 7
        }
      ]
    },
    {
      "cell_type": "code",
      "source": [
        "graph = {}\n",
        "\n",
        "(line, column, width) = (0, 0, 0)\n",
        "for c in mp:\n",
        "  if c == '\\n':\n",
        "    line += 1\n",
        "    width = column\n",
        "    column = 0\n",
        "  else:\n",
        "    if c == 'X':\n",
        "      pass\n",
        "    else:\n",
        "      graph[line, column] = []\n",
        "    column += 1\n",
        "height = line\n",
        "print(height, width)\n",
        "graph[\"width\"] = width\n",
        "graph[\"height\"] = height"
      ],
      "metadata": {
        "colab": {
          "base_uri": "https://localhost:8080/"
        },
        "id": "smZhqjf1T5dq",
        "outputId": "2493fe91-146d-4049-f9f6-2138163de033"
      },
      "execution_count": null,
      "outputs": [
        {
          "output_type": "stream",
          "name": "stdout",
          "text": [
            "4 7\n"
          ]
        }
      ]
    },
    {
      "cell_type": "code",
      "source": [
        "graph"
      ],
      "metadata": {
        "colab": {
          "base_uri": "https://localhost:8080/"
        },
        "id": "tkwaqUeoUN0i",
        "outputId": "01423b0f-b40d-4348-b20c-d95f57c29313"
      },
      "execution_count": null,
      "outputs": [
        {
          "output_type": "execute_result",
          "data": {
            "text/plain": [
              "{(0, 0): [],\n",
              " (0, 1): [],\n",
              " (0, 3): [],\n",
              " (0, 4): [],\n",
              " (1, 1): [],\n",
              " (1, 2): [],\n",
              " (1, 4): [],\n",
              " (2, 0): [],\n",
              " (2, 1): [],\n",
              " (2, 2): [],\n",
              " (2, 4): [],\n",
              " 'width': 5,\n",
              " 'height': 3}"
            ]
          },
          "metadata": {},
          "execution_count": 10
        }
      ]
    },
    {
      "cell_type": "code",
      "source": [
        "for line in range(graph[\"height\"]):\n",
        "  for column in range(graph[\"width\"]):\n",
        "    vertex = (line, column)\n",
        "    if vertex in graph:\n",
        "      for dy in [-1, 0, 1]:\n",
        "        for dx in [-1, 0, 1]:\n",
        "          n = (line + dx, column + dy)\n",
        "          if n in graph and n != vertex:\n",
        "            graph[vertex] += [ n ]\n",
        "          else:\n",
        "            pass"
      ],
      "metadata": {
        "id": "hE8lt0uSUW9D"
      },
      "execution_count": null,
      "outputs": []
    },
    {
      "cell_type": "code",
      "source": [
        "graph"
      ],
      "metadata": {
        "colab": {
          "base_uri": "https://localhost:8080/"
        },
        "id": "YSfhbkj2UiBb",
        "outputId": "342337c5-a891-4d39-c390-4506a791ed64"
      },
      "execution_count": null,
      "outputs": [
        {
          "output_type": "execute_result",
          "data": {
            "text/plain": [
              "{(0, 0): [(0, 1), (1, 1)],\n",
              " (0, 1): [(0, 0), (1, 1), (1, 2)],\n",
              " (0, 3): [(1, 2), (0, 4), (1, 4)],\n",
              " (0, 4): [(0, 3), (1, 4)],\n",
              " (1, 1): [(0, 0), (2, 0), (0, 1), (2, 1), (1, 2), (2, 2)],\n",
              " (1, 2): [(0, 1), (1, 1), (2, 1), (2, 2), (0, 3)],\n",
              " (1, 4): [(0, 3), (0, 4), (2, 4)],\n",
              " (2, 0): [(1, 1), (2, 1)],\n",
              " (2, 1): [(2, 0), (1, 1), (1, 2), (2, 2)],\n",
              " (2, 2): [(1, 1), (2, 1), (1, 2)],\n",
              " (2, 4): [(1, 4)],\n",
              " 'width': 5,\n",
              " 'height': 3}"
            ]
          },
          "metadata": {},
          "execution_count": 12
        }
      ]
    },
    {
      "cell_type": "code",
      "source": [
        "def sp(paths, target, graph):\n",
        "  if paths == []:\n",
        "    print(\"There is no path to \", target)\n",
        "    return\n",
        "  print(len(paths), \"paths with\", len(paths[0]), \"stops\")\n",
        "  newpaths = []\n",
        "  for p in paths:\n",
        "    if p[-1] == target:\n",
        "      print(\"Solution: \", p)\n",
        "      return p # how many answers will I get?\n",
        "      # answer: only the first one\n",
        "  for p in paths:\n",
        "    last = p[-1]\n",
        "    neighbors = graph[last]\n",
        "    for n in neighbors:\n",
        "      if n in p:\n",
        "        pass\n",
        "      else:\n",
        "        drew = p + [ n ]\n",
        "        newpaths = newpaths + [ drew ]\n",
        "  return sp(newpaths, target, graph)"
      ],
      "metadata": {
        "id": "dplysrgBUi25"
      },
      "execution_count": null,
      "outputs": []
    },
    {
      "cell_type": "code",
      "source": [
        "answer = sp([[(0, 0)]], (1, 2), graph)"
      ],
      "metadata": {
        "colab": {
          "base_uri": "https://localhost:8080/"
        },
        "id": "YnAJe2udVDIK",
        "outputId": "2647abed-8114-4bb7-da57-71a4b1b108ef"
      },
      "execution_count": null,
      "outputs": [
        {
          "output_type": "stream",
          "name": "stdout",
          "text": [
            "1 paths with 1 stops\n",
            "2 paths with 2 stops\n",
            "7 paths with 3 stops\n",
            "Solution:  [(0, 0), (0, 1), (1, 2)]\n"
          ]
        }
      ]
    },
    {
      "cell_type": "code",
      "source": [
        "startin = (0, 0)\n",
        "towards = (2, 4)\n",
        "print(mp)\n",
        "from datetime import datetime\n",
        "now = datetime.now()\n",
        "current_time = now.strftime(\"%H:%M:%S\")\n",
        "print(\"Current time = \", current_time)\n",
        "answer = sp([[startin]], towards, graph)\n",
        "now = datetime.now()\n",
        "current_time = now.strftime(\"%H:%M:%S\")\n",
        "print(\"Current time = \", current_time)"
      ],
      "metadata": {
        "colab": {
          "base_uri": "https://localhost:8080/"
        },
        "id": "Vq18QrdUVQaj",
        "outputId": "15fd708e-333e-45ca-898b-1d2e8bb26d69"
      },
      "execution_count": null,
      "outputs": [
        {
          "output_type": "stream",
          "name": "stdout",
          "text": [
            "..X..\n",
            "X..X.\n",
            "...X.\n",
            "\n",
            "Current time =  20:22:55\n",
            "1 paths with 1 stops\n",
            "2 paths with 2 stops\n",
            "7 paths with 3 stops\n",
            "19 paths with 4 stops\n",
            "38 paths with 5 stops\n",
            "51 paths with 6 stops\n",
            "Solution:  [(0, 0), (0, 1), (1, 2), (0, 3), (1, 4), (2, 4)]\n",
            "Current time =  20:22:55\n"
          ]
        }
      ]
    },
    {
      "cell_type": "code",
      "source": [
        "banana = {} # thanks jackson!\n",
        "\n",
        "def report(space, lolc):\n",
        "  # print(lolc)\n",
        "  # print(banana)\n",
        "  (line, column, width) = (0, 0, 0)\n",
        "  for c in space:\n",
        "    if c == '\\n':\n",
        "      line += 1\n",
        "      width = column\n",
        "      column = 0\n",
        "    else:\n",
        "      location = (line, column)\n",
        "      # print(c, location)\n",
        "      if location in lolc:\n",
        "        banana[line, column] = '@'\n",
        "      else:\n",
        "        banana[line, column] = c\n",
        "      # print(banana)\n",
        "      column += 1\n",
        "  height = line\n",
        "  banana[\"width\"] = width\n",
        "  banana[\"height\"] = height\n",
        "  (w, h) = (width, height)\n",
        "  for lin in range(h):\n",
        "    for col in range(w):\n",
        "      location = (lin, col)\n",
        "      print(banana[location], end=' ')\n",
        "    print()"
      ],
      "metadata": {
        "id": "L303ehh6Vqx9"
      },
      "execution_count": null,
      "outputs": []
    },
    {
      "cell_type": "code",
      "source": [
        "report(mp, answer)"
      ],
      "metadata": {
        "colab": {
          "base_uri": "https://localhost:8080/"
        },
        "id": "D-2mKW1wYvx7",
        "outputId": "f78ad319-42c0-4711-da60-7d6a71a01672"
      },
      "execution_count": null,
      "outputs": [
        {
          "output_type": "stream",
          "name": "stdout",
          "text": [
            "@ @ X @ . \n",
            "X . @ X @ \n",
            ". . . X @ \n"
          ]
        }
      ]
    },
    {
      "cell_type": "code",
      "source": [
        "mp = \"\"\"\n",
        ".........\n",
        ".........\n",
        ".........\n",
        ".........\n",
        ".........\n",
        ".........\n",
        "\"\"\"\n",
        "mp = mp[1:]\n",
        "graph = {}\n",
        "\n",
        "(line, column, width) = (0, 0, 0)\n",
        "for c in mp:\n",
        "  if c == '\\n':\n",
        "    line += 1\n",
        "    width = column\n",
        "    column = 0\n",
        "  else:\n",
        "    if c == 'X':\n",
        "      pass\n",
        "    else:\n",
        "      graph[line, column] = []\n",
        "    column += 1\n",
        "height = line\n",
        "print(height, width)\n",
        "graph[\"width\"] = width\n",
        "graph[\"height\"] = height\n",
        "\n",
        "for line in range(graph[\"height\"]):\n",
        "  for column in range(graph[\"width\"]):\n",
        "    vertex = (line, column)\n",
        "    if vertex in graph:\n",
        "      for dy in [-1, 0, 1]:\n",
        "        for dx in [-1, 0, 1]:\n",
        "          n = (line + dx, column + dy)\n",
        "          if n in graph and n != vertex:\n",
        "            graph[vertex] += [ n ]\n",
        "          else:\n",
        "            pass\n",
        "\n",
        "startin = (0, 0)\n",
        "towards = (height-1, width-1)\n",
        "# print(mp)\n",
        "from datetime import datetime\n",
        "now = datetime.now()\n",
        "current_time = now.strftime(\"%H:%M:%S\")\n",
        "print(\"Current time = \", current_time)\n",
        "answer = sp([[startin]], towards, graph)\n",
        "report(mp, answer)\n",
        "now = datetime.now()\n",
        "current_time = now.strftime(\"%H:%M:%S\")\n",
        "print(\"Current time = \", current_time)"
      ],
      "metadata": {
        "colab": {
          "base_uri": "https://localhost:8080/"
        },
        "id": "kChXneXVYzIt",
        "outputId": "cbe1104b-8845-4418-ca8c-b0966c303924"
      },
      "execution_count": null,
      "outputs": [
        {
          "output_type": "stream",
          "name": "stdout",
          "text": [
            "6 9\n",
            "Current time =  21:11:53\n",
            "1 paths with 1 stops\n",
            "3 paths with 2 stops\n",
            "15 paths with 3 stops\n",
            "75 paths with 4 stops\n",
            "391 paths with 5 stops\n",
            "2065 paths with 6 stops\n",
            "10824 paths with 7 stops\n",
            "55601 paths with 8 stops\n",
            "280426 paths with 9 stops\n",
            "Solution:  [(0, 0), (0, 1), (0, 2), (0, 3), (1, 4), (2, 5), (3, 6), (4, 7), (5, 8)]\n",
            "@ @ @ @ . . . . . \n",
            ". . . . @ . . . . \n",
            ". . . . . @ . . . \n",
            ". . . . . . @ . . \n",
            ". . . . . . . @ . \n",
            ". . . . . . . . @ \n",
            "Current time =  21:19:07\n"
          ]
        }
      ]
    },
    {
      "cell_type": "code",
      "source": [],
      "metadata": {
        "id": "nDQvjtzFbC1E"
      },
      "execution_count": null,
      "outputs": []
    }
  ]
}